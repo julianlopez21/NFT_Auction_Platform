{
 "cells": [
  {
   "cell_type": "markdown",
   "metadata": {},
   "source": [
    "# Tokenizing NFTs"
   ]
  },
  {
   "cell_type": "code",
   "execution_count": 1,
   "metadata": {},
   "outputs": [],
   "source": [
    "from tokentools import convertDataToJSON, pinJSONtoIPFS, initContract, w3"
   ]
  },
  {
   "cell_type": "code",
   "execution_count": 2,
   "metadata": {},
   "outputs": [],
   "source": [
    "art_registry = initContract()"
   ]
  },
  {
   "cell_type": "code",
   "execution_count": 3,
   "metadata": {},
   "outputs": [],
   "source": [
    "def generateURI():\n",
    "    title = input(\"Title: \")\n",
    "    artist_name = input(\"Artist Name: \")\n",
    "\n",
    "    json_data = convertDataToJSON(title, artist_name)\n",
    "    token_uri = pinJSONtoIPFS(json_data)\n",
    "\n",
    "    return token_uri"
   ]
  },
  {
   "cell_type": "code",
   "execution_count": 4,
   "metadata": {},
   "outputs": [],
   "source": [
    "def registerArtwork(owner, title, artist_name, initial_value, token_uri):\n",
    "    tx_hash = art_registry.functions.registerArtwork(owner, title, artist_name, initial_value, token_uri).transact(\n",
    "        {\"from\": w3.eth.accounts[0]}\n",
    "    )\n",
    "    receipt = w3.eth.waitForTransactionReceipt(tx_hash)\n",
    "    return receipt"
   ]
  },
  {
   "cell_type": "code",
   "execution_count": 5,
   "metadata": {},
   "outputs": [
    {
     "name": "stdin",
     "output_type": "stream",
     "text": [
      "Title:  Julian's Art\n",
      "Artist Name:  Julian\n"
     ]
    }
   ],
   "source": [
    "token_uri = generateURI()"
   ]
  },
  {
   "cell_type": "code",
   "execution_count": 6,
   "metadata": {},
   "outputs": [
    {
     "data": {
      "text/plain": [
       "'ipfs://bafkreidh7nzvytqhutlvqpvc7sksteexecm3ghdrh7noltasdbogb4b7ym'"
      ]
     },
     "execution_count": 6,
     "metadata": {},
     "output_type": "execute_result"
    }
   ],
   "source": [
    "token_uri"
   ]
  },
  {
   "cell_type": "code",
   "execution_count": 7,
   "metadata": {},
   "outputs": [],
   "source": [
    "owner = '0xa60fb4d13F87539C37666D261B20142c2261B4c0'\n",
    "title = \"Julian's Art\"\n",
    "artist_name = \"Julian\"\n",
    "initial_value = 10000"
   ]
  },
  {
   "cell_type": "code",
   "execution_count": 8,
   "metadata": {},
   "outputs": [],
   "source": [
    "receipt = registerArtwork(owner, title, artist_name, initial_value, token_uri)"
   ]
  },
  {
   "cell_type": "code",
   "execution_count": 9,
   "metadata": {},
   "outputs": [
    {
     "data": {
      "text/plain": [
       "AttributeDict({'transactionHash': HexBytes('0xea3575d4d52a16b09690a41222987e9aa3ff05287f1dcf8ef3b7a4e861923622'),\n",
       " 'transactionIndex': 0,\n",
       " 'blockHash': HexBytes('0xaef80be734fe6f9cfa6d9938fbb4465b05fb0790686c889ba79fd9b4d60bfa15'),\n",
       " 'blockNumber': 21,\n",
       " 'from': '0xa60fb4d13F87539C37666D261B20142c2261B4c0',\n",
       " 'to': '0xf06Ab75F8c22c6e6e5AD51149Af6c2c2A25CF000',\n",
       " 'gasUsed': 301176,\n",
       " 'cumulativeGasUsed': 301176,\n",
       " 'contractAddress': None,\n",
       " 'logs': [AttributeDict({'logIndex': 0,\n",
       "   'transactionIndex': 0,\n",
       "   'transactionHash': HexBytes('0xea3575d4d52a16b09690a41222987e9aa3ff05287f1dcf8ef3b7a4e861923622'),\n",
       "   'blockHash': HexBytes('0xaef80be734fe6f9cfa6d9938fbb4465b05fb0790686c889ba79fd9b4d60bfa15'),\n",
       "   'blockNumber': 21,\n",
       "   'address': '0xf06Ab75F8c22c6e6e5AD51149Af6c2c2A25CF000',\n",
       "   'data': '0x',\n",
       "   'topics': [HexBytes('0xddf252ad1be2c89b69c2b068fc378daa952ba7f163c4a11628f55a4df523b3ef'),\n",
       "    HexBytes('0x0000000000000000000000000000000000000000000000000000000000000000'),\n",
       "    HexBytes('0x000000000000000000000000a60fb4d13f87539c37666d261b20142c2261b4c0'),\n",
       "    HexBytes('0x0000000000000000000000000000000000000000000000000000000000000002')],\n",
       "   'type': 'mined'})],\n",
       " 'status': 1,\n",
       " 'logsBloom': HexBytes('0x04000000000000000000000000080000000000000000000000000000000000000000020000000000000000000000000010000000000000000000000000000000000000000000000000000008000000000000000000000000000000000000000000000000020000000000000000000800000000000000000000000010000000000000000000000000000000000000000000000000000000000000000000000000200000000000000000000100000000000000000000000000000000000000000000000002000000000000000001000000000000000000002000000000000020000000000000000000000000000000000000000000008000000000000000000000')})"
      ]
     },
     "execution_count": 9,
     "metadata": {},
     "output_type": "execute_result"
    }
   ],
   "source": [
    "receipt"
   ]
  },
  {
   "cell_type": "code",
   "execution_count": null,
   "metadata": {},
   "outputs": [],
   "source": []
  }
 ],
 "metadata": {
  "kernelspec": {
   "display_name": "Python 3",
   "language": "python",
   "name": "python3"
  },
  "language_info": {
   "codemirror_mode": {
    "name": "ipython",
    "version": 3
   },
   "file_extension": ".py",
   "mimetype": "text/x-python",
   "name": "python",
   "nbconvert_exporter": "python",
   "pygments_lexer": "ipython3",
   "version": "3.7.7"
  }
 },
 "nbformat": 4,
 "nbformat_minor": 4
}
