{
 "cells": [
  {
   "cell_type": "code",
   "execution_count": 1,
   "metadata": {},
   "outputs": [],
   "source": [
    "import requests\n",
    "import json\n",
    "import os\n",
    "\n",
    "from dotenv import load_dotenv\n",
    "from pathlib import Path\n",
    "\n",
    "from web3.auto import w3"
   ]
  },
  {
   "cell_type": "code",
   "execution_count": 2,
   "metadata": {},
   "outputs": [
    {
     "data": {
      "text/plain": [
       "True"
      ]
     },
     "execution_count": 2,
     "metadata": {},
     "output_type": "execute_result"
    }
   ],
   "source": [
    "load_dotenv('JL.env')"
   ]
  },
  {
   "cell_type": "code",
   "execution_count": 21,
   "metadata": {},
   "outputs": [],
   "source": [
    "headers = {\n",
    "    \"Content-Type\": \"application/json\",\n",
    "    \"pinata_api_key\": os.getenv(\"PINATA_API_KEY\"),\n",
    "    \"pinata_secret_api_key\": os.getenv(\"PINATA_SECRET_KEY\"),\n",
    "}"
   ]
  },
  {
   "cell_type": "code",
   "execution_count": 4,
   "metadata": {},
   "outputs": [],
   "source": [
    "def initContract():\n",
    "    with open(Path(\"Tokenize.json\")) as json_file:\n",
    "        abi = json.load(json_file)\n",
    "\n",
    "    return w3.eth.contract(address=os.getenv(\"ARTREGISTRY_ADDRESS\"), abi=abi)"
   ]
  },
  {
   "cell_type": "code",
   "execution_count": 5,
   "metadata": {},
   "outputs": [],
   "source": [
    "def convertDataToJSON(title, artist_name):\n",
    "    data = {\n",
    "        \"pinataOptions\": {\"cidVersion\": 1},\n",
    "        \"pinataContent\": {\n",
    "            \"title\": title,\n",
    "            \"artist_name\": artist_name\n",
    "        },\n",
    "    }\n",
    "    return json.dumps(data)"
   ]
  },
  {
   "cell_type": "code",
   "execution_count": 6,
   "metadata": {},
   "outputs": [],
   "source": [
    "def pinJSONtoIPFS(json):\n",
    "    r = requests.post(\n",
    "        \"https://api.pinata.cloud/pinning/pinJSONToIPFS\", data=json, headers=headers\n",
    "    )\n",
    "    ipfs_hash = r.json()[\"IpfsHash\"]\n",
    "    return f\"ipfs://{ipfs_hash}\""
   ]
  },
  {
   "cell_type": "code",
   "execution_count": 7,
   "metadata": {},
   "outputs": [],
   "source": [
    "json_data = convertDataToJSON(\"Art\", \"Julian\")"
   ]
  },
  {
   "cell_type": "code",
   "execution_count": 25,
   "metadata": {},
   "outputs": [],
   "source": [
    "token_uri = pinJSONtoIPFS(json_data)"
   ]
  },
  {
   "cell_type": "code",
   "execution_count": 23,
   "metadata": {},
   "outputs": [],
   "source": [
    "r = requests.post(\"https://api.pinata.cloud/pinning/pinJSONToIPFS\", data=json_data, headers=headers)"
   ]
  },
  {
   "cell_type": "code",
   "execution_count": 24,
   "metadata": {},
   "outputs": [
    {
     "data": {
      "text/plain": [
       "{'IpfsHash': 'bafkreihv2upx6nbalrdts66yayrtk46u6n3abux4jxrux35kj2xeygpehu',\n",
       " 'PinSize': 38,\n",
       " 'Timestamp': '2021-08-25T23:54:24.843Z'}"
      ]
     },
     "execution_count": 24,
     "metadata": {},
     "output_type": "execute_result"
    }
   ],
   "source": [
    "r.json()"
   ]
  },
  {
   "cell_type": "code",
   "execution_count": 20,
   "metadata": {},
   "outputs": [
    {
     "data": {
      "text/plain": [
       "NoneType"
      ]
     },
     "execution_count": 20,
     "metadata": {},
     "output_type": "execute_result"
    }
   ],
   "source": [
    "type(os.getenv(\"PINATA_SECRET_API_KEY\"))"
   ]
  },
  {
   "cell_type": "code",
   "execution_count": 26,
   "metadata": {},
   "outputs": [
    {
     "data": {
      "text/plain": [
       "'ipfs://bafkreihv2upx6nbalrdts66yayrtk46u6n3abux4jxrux35kj2xeygpehu'"
      ]
     },
     "execution_count": 26,
     "metadata": {},
     "output_type": "execute_result"
    }
   ],
   "source": [
    "token_uri"
   ]
  },
  {
   "cell_type": "code",
   "execution_count": null,
   "metadata": {},
   "outputs": [],
   "source": []
  }
 ],
 "metadata": {
  "kernelspec": {
   "display_name": "Python 3",
   "language": "python",
   "name": "python3"
  },
  "language_info": {
   "codemirror_mode": {
    "name": "ipython",
    "version": 3
   },
   "file_extension": ".py",
   "mimetype": "text/x-python",
   "name": "python",
   "nbconvert_exporter": "python",
   "pygments_lexer": "ipython3",
   "version": "3.7.7"
  }
 },
 "nbformat": 4,
 "nbformat_minor": 4
}
